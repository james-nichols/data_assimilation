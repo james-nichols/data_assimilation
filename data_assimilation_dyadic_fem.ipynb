{
 "cells": [
  {
   "cell_type": "markdown",
   "metadata": {},
   "source": [
    "# Data assimilation for FEM solutions on the dyadic-subdivided unit square"
   ]
  },
  {
   "cell_type": "code",
   "execution_count": 20,
   "metadata": {
    "collapsed": false
   },
   "outputs": [],
   "source": [
    "import numpy as np\n",
    "import importlib\n",
    "import dyadic_fem as df\n",
    "import matplotlib.pyplot as plt\n",
    "importlib.reload(df)\n",
    "%matplotlib inline"
   ]
  },
  {
   "cell_type": "code",
   "execution_count": 25,
   "metadata": {
    "collapsed": false
   },
   "outputs": [],
   "source": [
    "importlib.reload(df)\n",
    "\n",
    "field_div = 2\n",
    "fem_div = 6\n",
    "coarse_div = 3\n",
    "\n",
    "# First we generate our solution\n",
    "a = df.DyadicRandomField(div=field_div, a_bar=1.0, c=0.99, seed=3)\n",
    "fem = df.DyadicFEMSolver(div=fem_div, rand_field=a, f=1.0)\n",
    "fem.solve()\n",
    "\n",
    "coarse_grid = 2**coarse_div - 1\n",
    "# Now make our bases\n",
    "hat_b_L2 = df.make_hat_basis(coarse_div, space='L2')\n",
    "hat_b_H1 = df.make_hat_basis(coarse_div, space='H1')\n",
    "sin_b_L2 = df.make_sine_basis(coarse_div, N=coarse_grid, M=coarse_grid, space='L2')\n",
    "sin_b_H1 = df.make_sine_basis(coarse_div, N=coarse_grid, M=coarse_grid, space='H1')\n",
    "\n",
    "\n"
   ]
  },
  {
   "cell_type": "code",
   "execution_count": 30,
   "metadata": {
    "collapsed": false
   },
   "outputs": [
    {
     "data": {
      "text/plain": [
       "True"
      ]
     },
     "execution_count": 30,
     "metadata": {},
     "output_type": "execute_result"
    }
   ],
   "source": [
    "isinstance(a.field, df.DyadicPWConstant)"
   ]
  },
  {
   "cell_type": "code",
   "execution_count": null,
   "metadata": {
    "collapsed": true
   },
   "outputs": [],
   "source": []
  }
 ],
 "metadata": {
  "kernelspec": {
   "display_name": "Python 3",
   "language": "python",
   "name": "python3"
  },
  "language_info": {
   "codemirror_mode": {
    "name": "ipython",
    "version": 3
   },
   "file_extension": ".py",
   "mimetype": "text/x-python",
   "name": "python",
   "nbconvert_exporter": "python",
   "pygments_lexer": "ipython3",
   "version": "3.5.1"
  }
 },
 "nbformat": 4,
 "nbformat_minor": 0
}
